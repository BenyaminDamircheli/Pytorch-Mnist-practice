{
 "cells": [
  {
   "cell_type": "markdown",
   "metadata": {},
   "source": [
    "##  Notes on how to use PyTorch by training a simple neural network to classify MNIST dataset.\n",
    "for my personal reference and understanding"
   ]
  },
  {
   "cell_type": "code",
   "execution_count": 11,
   "metadata": {},
   "outputs": [],
   "source": [
    "import torch\n",
    "import torch.nn as nn\n",
    "import torch.optim as optim\n",
    "import torchvision\n",
    "import torchvision.transforms as transforms\n",
    "import matplotlib.pyplot as plt\n",
    "import numpy as np"
   ]
  },
  {
   "cell_type": "markdown",
   "metadata": {},
   "source": [
    "### Notes on how to load data and what transform does\n",
    "- transforms is used to transform the data (preprocess it) before it is fed to the model\n",
    "- transforms.Compose is used to compose multiple transforms in parralel, performance thing.\n",
    "- **transforms.ToTensor()** is used to convert the Image into a tensor.\n",
    "- **transforms.Normalize** is used to normalize the data (make it so that the data is between 0 and 1), Here it takes the mean and std deviation of the data and then normalizes it.\n",
    "    - **transforms.Normalize((0.5,), (0.5,))** normalizes the data using mean=0.5 and std=0.5\n",
    "    - For each pixel value x, it applies: (x - 0.5) / 0.5\n",
    "    - This centers the data around 0 and scales it, but doesn't restrict it to a specific range\n",
    "    - The resulting values can be outside the [-1, 1] range, depending on the original pixel values\n"
   ]
  },
  {
   "cell_type": "code",
   "execution_count": 15,
   "metadata": {},
   "outputs": [],
   "source": [
    "transform = transforms.Compose([transforms.ToTensor(), transforms.Normalize((0.5,), (0.5,))])\n",
    "\n",
    "trainset = torchvision.datasets.MNIST(root='./data', train=True, download=True, transform=transform)\n",
    "trainloader = torch.utils.data.DataLoader(trainset, batch_size=64, shuffle=True)\n",
    "\n",
    "testset = torchvision.datasets.MNIST(root='./data', train=False, download=True, transform=transform)\n",
    "testloader = torch.utils.data.DataLoader(testset, batch_size=64, shuffle=False)\n",
    "\n"
   ]
  },
  {
   "cell_type": "markdown",
   "metadata": {},
   "source": [
    " ### Notes on the Neural Network Model (MnistNN)\n",
    "\n",
    " 1. Model Structure:\n",
    "   - Input layer: 28*28 = 784 neurons (flattened 28x28 pixel image)\n",
    "   - First hidden layer: 128 neurons\n",
    "   - Second hidden layer: 64 neurons\n",
    "   - Output layer: 10 neurons (one for each digit 0-9)\n",
    "\n",
    " 2. Layer Connections:\n",
    "    - fc1: Connects input (784) to first hidden layer (128)\n",
    "   - fc2: Connects first hidden layer (128) to second hidden layer (64)\n",
    "   - fc3: Connects second hidden layer (64) to output layer (10)\n",
    "\n",
    " 3. Activation Functions:\n",
    "   - ReLU (Rectified Linear Unit) used after fc1 and fc2\n",
    "   - No activation function after fc3 (raw logits for CrossEntropyLoss)\n",
    "\n",
    " 4. Forward Pass:\n",
    "   - Flattens input image to 1D tensor\n",
    "   - Applies linear transformations and activations sequentially\n",
    "   - Returns logits for 10 possible digit classes\n",
    "\n",
    "5. Note on Implementation:\n",
    "   - Uses PyTorch's nn.Module as base class\n",
    "    - Defines layers in __init__ method\n",
    "   - Implements forward pass logic in forward method\n",
    "\n",
    " 6. Activation Functions:\n",
    "    - Purpose: Activation functions introduce non-linearity into the neural network.\n",
    "    - Without activation functions, the network would be equivalent to a single linear transformation.\n",
    "    - They allow the network to learn complex patterns and relationships in the data.\n",
    "    - ReLU (Rectified Linear Unit) is commonly used because:\n",
    "      a) It's computationally efficient (simple max operation).\n",
    "      b) It helps mitigate the vanishing gradient problem.\n",
    "      c) It allows for sparse activation, as negative inputs are mapped to zero.\n",
    "    - In our model, ReLU helps the network capture non-linear relationships between features at different layers.\n",
    "\n"
   ]
  },
  {
   "cell_type": "code",
   "execution_count": 59,
   "metadata": {},
   "outputs": [],
   "source": [
    "class MnistNN(nn.Module):\n",
    "   def __init__(self):\n",
    "      super(MnistNN, self).__init__()\n",
    "      self.fc1 = nn.Linear(28*28, 256) # 28*28 is the size of the input image (28x28 pixels), 128 is the number of output features\n",
    "      self.fc2 = nn.Linear(256, 128)\n",
    "      self.fc3 = nn.Linear(128, 32) # 128 is the number of input features, 64 is the number of output features\n",
    "      self.fc4 = nn.Linear(32, 10) # 64 is the number of input features, 10 is the number of output features (10 numbers it could be)\n",
    "\n",
    "   def forward(self, x: torch.Tensor):\n",
    "      x = x.view(-1, 28*28) # Flatten the input image\n",
    "      x = torch.relu(self.fc1(x)) # relu on the first layer\n",
    "      x = torch.relu(self.fc2(x)) # relu on the second layer\n",
    "      x = torch.relu(self.fc3(x)) # relu on the third layer\n",
    "      x = self.fc4(x) # linear layer (logits)\n",
    "      return x\n",
    "\n"
   ]
  },
  {
   "cell_type": "markdown",
   "metadata": {},
   "source": [
    "# Model, Loss Function, and Optimizer\n",
    "\n",
    "Model (MnistNN)\n",
    "- Custom neural network for MNIST digit classification\n",
    "- Three fully connected layers: 784 -> 128 -> 64 -> 10\n",
    "\n",
    "Loss Function (CrossEntropyLoss)\n",
    "- Used for multi-class classification\n",
    "- Formula: $L = -\\log(\\frac{\\exp(x[\\text{class}])}{\\sum_{j \\in C} \\exp(x[j])})$\n",
    "- Penalizes confident incorrect predictions more heavily\n",
    "\n",
    "Optimizer (Adam)\n",
    "- We use the Adam optimizer (`optim.Adam`) to update our model's parameters.\n",
    "- Adam is an adaptive learning rate optimization algorithm.\n",
    "- It's efficient and well-suited for problems with a large amount of data/parameters.\n",
    "- We set the learning rate to 0.001, which is a common starting point.\n",
    "\n",
    "Training process:\n",
    "1. Model predicts\n",
    "2. Loss function calculates error\n",
    "3. Optimizer updates model parameters\n"
   ]
  },
  {
   "cell_type": "code",
   "execution_count": 64,
   "metadata": {},
   "outputs": [],
   "source": [
    "model = MnistNN()\n",
    "loss_fn = nn.CrossEntropyLoss()\n",
    "optimizer = optim.Adam(model.parameters(), lr=0.001)"
   ]
  },
  {
   "cell_type": "code",
   "execution_count": 65,
   "metadata": {},
   "outputs": [
    {
     "name": "stdout",
     "output_type": "stream",
     "text": [
      "Epoch 1, Loss: 0.3869182396290907\n",
      "Epoch 2, Loss: 0.17123947873401807\n",
      "Epoch 3, Loss: 0.12399035990277905\n",
      "Epoch 4, Loss: 0.09817120627309484\n",
      "Epoch 5, Loss: 0.08328425739608857\n",
      "Epoch 6, Loss: 0.07244165815752564\n",
      "Epoch 7, Loss: 0.06455592351428457\n",
      "Epoch 8, Loss: 0.05652062714818234\n",
      "Epoch 9, Loss: 0.05106595626981087\n",
      "Epoch 10, Loss: 0.04973102138806651\n",
      "Epoch 11, Loss: 0.0414939702417491\n",
      "Epoch 12, Loss: 0.04334280815059026\n",
      "Epoch 13, Loss: 0.03582564822441813\n",
      "Epoch 14, Loss: 0.03420276469057069\n",
      "Epoch 15, Loss: 0.034778480024100826\n",
      "Training complete\n",
      "prev loss was 0.03538552442036107\n"
     ]
    }
   ],
   "source": [
    "epochs = 15  # number of times we go through the entire dataset\n",
    "loss_history = []\n",
    "\n",
    "for epoch in range(epochs):\n",
    "    running_loss = 0.0\n",
    "    for images, labels in trainloader:\n",
    "        optimizer.zero_grad() # set the gradients to zero so they don't accumulate\n",
    "\n",
    "        outputs = model(images) # forward pass\n",
    "        loss = loss_fn(outputs, labels) # calculate the loss\n",
    "\n",
    "        loss.backward() # backward pass (backpropagation and gradient calc)\n",
    "        optimizer.step() # update the weights\n",
    "\n",
    "        running_loss += loss.item() # add the loss to the running loss\n",
    "\n",
    "    loss_history.append(running_loss/len(trainloader))\n",
    "    print(f\"Epoch {epoch+1}, Loss: {running_loss/len(trainloader)}\") # print the loss\n",
    "\n",
    "print(\"Training complete\")\n",
    "print(\"prev loss was 0.03538552442036107\")\n"
   ]
  },
  {
   "cell_type": "markdown",
   "metadata": {},
   "source": [
    "# Sigmoid vs ReLU Activation Functions\n",
    "\n",
    " Based on the training loss progression, we can see that our model using ReLU activation function performs well, with the loss decreasing steadily over epochs. This performance can be contrasted with potential limitations of using sigmoid activation:\n",
    "\n",
    "1. Vanishing Gradient Problem:\n",
    "   - Sigmoid function saturates and kills gradients for very high or very low inputs.\n",
    "   - This can slow down or even stop learning in deep networks.\n",
    "   - ReLU doesn't suffer from this as its gradient is always 1 for positive inputs.\n",
    "\n",
    "2. Non-Zero Centered Output:\n",
    "   - Sigmoid outputs are not zero-centered, which can introduce undesirable zig-zagging dynamics in gradient descent.\n",
    "   - ReLU also suffers from this, but its sparsity and non-saturating nature often outweigh this drawback.\n",
    "\n",
    "3. Computational Efficiency:\n",
    "   - Sigmoid involves expensive exponential operations.\n",
    "   - ReLU is simply a max operation, making it computationally efficient.\n",
    "\n",
    "4. Sparsity:\n",
    "   - ReLU can result in true zero activations, introducing sparsity in the network (some neurons are not activated).\n",
    "   - Sparsity can be beneficial for feature learning and the model being able to generalize better.\n",
    "\n"
   ]
  },
  {
   "cell_type": "code",
   "execution_count": 68,
   "metadata": {},
   "outputs": [
    {
     "data": {
      "image/png": "[encoded data removed]",
      "text/plain": [
       "<Figure size 1000x600 with 1 Axes>"
      ]
     },
     "metadata": {},
     "output_type": "display_data"
    }
   ],
   "source": [
    "plt.figure(figsize=(10, 6))\n",
    "plt.plot(range(1, epochs + 1), loss_history, marker='o')\n",
    "plt.title('Training Loss over Epochs')\n",
    "plt.xlabel('Epochs')\n",
    "plt.ylabel('Loss')\n",
    "plt.grid(True)\n",
    "plt.show()"
   ]
  },
  {
   "cell_type": "markdown",
   "metadata": {},
   "source": [
    "# Model Evaluation\n",
    "\n",
    "After training our model, we need to evaluate its performance on the test dataset. This process helps us understand how well our model generalizes to unseen data. Here's what the code in the next cell does:\n",
    "\n",
    "1. **Initialization**: We set up counters for correct predictions and total samples.\n",
    "   ```python\n",
    "   correct = 0\n",
    "   total = 0\n",
    "   ```\n",
    "\n",
    "2. **Disabling Gradient Calculation**: We use `torch.no_grad()` to disable gradient calculations, which aren't needed during inference and helps save memory and computation time.\n",
    "   ```python\n",
    "   with torch.no_grad():\n",
    "   ```\n",
    "\n",
    "3. **Iterating Through Test Data**: We loop through our test dataset using the `testloader`.\n",
    "   ```python\n",
    "   for images, labels in testloader:\n",
    "   ```\n",
    "\n",
    "4. **Making Predictions**: For each batch of images, we use our trained model to make predictions.\n",
    "   ```python\n",
    "   outputs = model(images)\n",
    "   _, predicted = torch.max(outputs, 1)\n",
    "   ```\n",
    "   `predicted` is a tensor of shape (batch_size (x-axis), 1 (y-axis)) containing the predicted labels for each image in the batch. ex. [1,7,0] - these are the indices of the highest value in the output tensor which corresponds to the actual predicted label.\n",
    "\n",
    "5. **Calculating Accuracy**: We compare the predicted labels with the true labels and keep a count of correct predictions.\n",
    "   ```python\n",
    "   total += labels.size(0)\n",
    "   correct += (predicted == labels).sum().item()\n",
    "   ```\n",
    "\n",
    "6. **Reporting Results**: Finally, we calculate and print the overall accuracy of our model on the test dataset.\n",
    "   ```python\n",
    "   print(f\"Accuracy of the network on the {total} test images: {100 * correct / total:.2f}%\")\n",
    "   ```\n",
    "\n",
    "This evaluation step is crucial as it gives us an unbiased estimate of how well our model performs on new, unseen data.\n"
   ]
  },
  {
   "cell_type": "code",
   "execution_count": 72,
   "metadata": {},
   "outputs": [
    {
     "name": "stdout",
     "output_type": "stream",
     "text": [
      "Accuracy of the network on the 10000 test images: 97.62%\n"
     ]
    }
   ],
   "source": [
    "correct = 0\n",
    "total = 0\n",
    "\n",
    "\n",
    "with torch.no_grad():  # disable gradient calculations for inference\n",
    "    for images, labels in testloader:\n",
    "        outputs = model(images)\n",
    "        _, predicted = torch.max(outputs, 1) # get the index of the highest value in the output (which is the predicted label)\n",
    "        total += labels.size(0)\n",
    "        correct += (predicted == labels).sum().item() # count how many are correct\n",
    "\n",
    "print(f\"Accuracy of the network on the {total} test images: {100 * correct / total:.2f}%\")\n"
   ]
  },
  {
   "cell_type": "code",
   "execution_count": 79,
   "metadata": {},
   "outputs": [
    {
     "data": {
      "image/png": "[encoded data removed]",
      "text/plain": [
       "<Figure size 640x480 with 1 Axes>"
      ]
     },
     "metadata": {},
     "output_type": "display_data"
    },
    {
     "name": "stdout",
     "output_type": "stream",
     "text": [
      "Predicted: 7\n",
      "Actual: 7\n"
     ]
    }
   ],
   "source": [
    "dataiter = iter(testloader)\n",
    "images, labels = next(dataiter)\n",
    "\n",
    "img = images[41].squeeze() # squeeze removes the extra dimension that torch adds to the image. dims are (1,28,28) -> (28,28), 1 represents the batch size\n",
    "label = labels[41].item() # item() converts the label to a python integer\n",
    "\n",
    "plt.imshow(img, cmap='gray')\n",
    "plt.title(f\"Image of a {label}\")\n",
    "plt.axis('off')\n",
    "plt.show()\n",
    "\n",
    "img_tensor = img.unsqueeze(0) # unsqueeze adds a dimension to the tensor of size 1, in this case it adds a batch size of 1\n",
    "\n",
    "with torch.no_grad():\n",
    "    output = model(img_tensor)\n",
    "    _, predicted = torch.max(output, 1)\n",
    "\n",
    "print(f\"Predicted: {predicted.item()}\")\n",
    "print(f\"Actual: {label}\")\n"
   ]
  }
 ],
 "metadata": {
  "language_info": {
   "name": "python"
  }
 },
 "nbformat": 4,
 "nbformat_minor": 2
}
